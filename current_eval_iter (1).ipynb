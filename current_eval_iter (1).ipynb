{
  "cells": [
    {
      "cell_type": "code",
      "execution_count": 1,
      "metadata": {
        "colab": {
          "base_uri": "https://localhost:8080/"
        },
        "id": "BU1IWt9oCUMP",
        "outputId": "b7ced67f-d180-4bf6-8c68-12c24ccb660f"
      },
      "outputs": [
        {
          "name": "stdout",
          "output_type": "stream",
          "text": [
            "Requirement already satisfied: pytorch-lightning in c:\\users\\brand\\anaconda3\\envs\\torch_cuda_env\\lib\\site-packages (2.5.0.post0)\n",
            "Requirement already satisfied: pandas in c:\\users\\brand\\anaconda3\\envs\\torch_cuda_env\\lib\\site-packages (2.2.3)\n",
            "Requirement already satisfied: xarray in c:\\users\\brand\\anaconda3\\envs\\torch_cuda_env\\lib\\site-packages (2025.1.2)\n",
            "Requirement already satisfied: torchist in c:\\users\\brand\\anaconda3\\envs\\torch_cuda_env\\lib\\site-packages (0.2.3)\n",
            "Requirement already satisfied: xskillscore in c:\\users\\brand\\anaconda3\\envs\\torch_cuda_env\\lib\\site-packages (0.0.26)\n",
            "Requirement already satisfied: pyyaml in c:\\users\\brand\\anaconda3\\envs\\torch_cuda_env\\lib\\site-packages (6.0.2)\n",
            "Requirement already satisfied: zarr in c:\\users\\brand\\anaconda3\\envs\\torch_cuda_env\\lib\\site-packages (2.18.3)\n",
            "Requirement already satisfied: tqdm in c:\\users\\brand\\anaconda3\\envs\\torch_cuda_env\\lib\\site-packages (4.67.1)\n",
            "Requirement already satisfied: torch>=2.1.0 in c:\\users\\brand\\anaconda3\\envs\\torch_cuda_env\\lib\\site-packages (from pytorch-lightning) (2.5.1)\n",
            "Requirement already satisfied: fsspec>=2022.5.0 in c:\\users\\brand\\anaconda3\\envs\\torch_cuda_env\\lib\\site-packages (from fsspec[http]>=2022.5.0->pytorch-lightning) (2025.3.0)\n",
            "Requirement already satisfied: torchmetrics>=0.7.0 in c:\\users\\brand\\anaconda3\\envs\\torch_cuda_env\\lib\\site-packages (from pytorch-lightning) (1.6.3)\n",
            "Requirement already satisfied: packaging>=20.0 in c:\\users\\brand\\anaconda3\\envs\\torch_cuda_env\\lib\\site-packages (from pytorch-lightning) (24.2)\n",
            "Requirement already satisfied: typing-extensions>=4.4.0 in c:\\users\\brand\\anaconda3\\envs\\torch_cuda_env\\lib\\site-packages (from pytorch-lightning) (4.12.2)\n",
            "Requirement already satisfied: lightning-utilities>=0.10.0 in c:\\users\\brand\\anaconda3\\envs\\torch_cuda_env\\lib\\site-packages (from pytorch-lightning) (0.14.0)\n",
            "Requirement already satisfied: numpy>=1.22.4 in c:\\users\\brand\\anaconda3\\envs\\torch_cuda_env\\lib\\site-packages (from pandas) (2.0.1)\n",
            "Requirement already satisfied: python-dateutil>=2.8.2 in c:\\users\\brand\\anaconda3\\envs\\torch_cuda_env\\lib\\site-packages (from pandas) (2.9.0.post0)\n",
            "Requirement already satisfied: pytz>=2020.1 in c:\\users\\brand\\anaconda3\\envs\\torch_cuda_env\\lib\\site-packages (from pandas) (2025.1)\n",
            "Requirement already satisfied: tzdata>=2022.7 in c:\\users\\brand\\anaconda3\\envs\\torch_cuda_env\\lib\\site-packages (from pandas) (2025.1)\n",
            "Requirement already satisfied: dask[array] in c:\\users\\brand\\anaconda3\\envs\\torch_cuda_env\\lib\\site-packages (from xskillscore) (2025.2.0)\n",
            "Requirement already satisfied: properscoring in c:\\users\\brand\\anaconda3\\envs\\torch_cuda_env\\lib\\site-packages (from xskillscore) (0.1)\n",
            "Requirement already satisfied: scipy in c:\\users\\brand\\anaconda3\\envs\\torch_cuda_env\\lib\\site-packages (from xskillscore) (1.15.2)\n",
            "Requirement already satisfied: statsmodels in c:\\users\\brand\\anaconda3\\envs\\torch_cuda_env\\lib\\site-packages (from xskillscore) (0.14.4)\n",
            "Requirement already satisfied: xhistogram>=0.3.0 in c:\\users\\brand\\anaconda3\\envs\\torch_cuda_env\\lib\\site-packages (from xskillscore) (0.3.2)\n",
            "Requirement already satisfied: asciitree in c:\\users\\brand\\anaconda3\\envs\\torch_cuda_env\\lib\\site-packages (from zarr) (0.3.3)\n",
            "Requirement already satisfied: fasteners in c:\\users\\brand\\anaconda3\\envs\\torch_cuda_env\\lib\\site-packages (from zarr) (0.19)\n",
            "Requirement already satisfied: numcodecs>=0.10.0 in c:\\users\\brand\\anaconda3\\envs\\torch_cuda_env\\lib\\site-packages (from zarr) (0.11.0)\n",
            "Requirement already satisfied: colorama in c:\\users\\brand\\anaconda3\\envs\\torch_cuda_env\\lib\\site-packages (from tqdm) (0.4.6)\n",
            "Requirement already satisfied: aiohttp!=4.0.0a0,!=4.0.0a1 in c:\\users\\brand\\anaconda3\\envs\\torch_cuda_env\\lib\\site-packages (from fsspec[http]>=2022.5.0->pytorch-lightning) (3.11.13)\n",
            "Requirement already satisfied: setuptools in c:\\users\\brand\\anaconda3\\envs\\torch_cuda_env\\lib\\site-packages (from lightning-utilities>=0.10.0->pytorch-lightning) (75.8.0)\n",
            "Requirement already satisfied: entrypoints in c:\\users\\brand\\anaconda3\\envs\\torch_cuda_env\\lib\\site-packages (from numcodecs>=0.10.0->zarr) (0.4)\n",
            "Requirement already satisfied: six>=1.5 in c:\\users\\brand\\anaconda3\\envs\\torch_cuda_env\\lib\\site-packages (from python-dateutil>=2.8.2->pandas) (1.17.0)\n",
            "Requirement already satisfied: filelock in c:\\users\\brand\\anaconda3\\envs\\torch_cuda_env\\lib\\site-packages (from torch>=2.1.0->pytorch-lightning) (3.13.1)\n",
            "Requirement already satisfied: networkx in c:\\users\\brand\\anaconda3\\envs\\torch_cuda_env\\lib\\site-packages (from torch>=2.1.0->pytorch-lightning) (3.4.2)\n",
            "Requirement already satisfied: jinja2 in c:\\users\\brand\\anaconda3\\envs\\torch_cuda_env\\lib\\site-packages (from torch>=2.1.0->pytorch-lightning) (3.1.6)\n",
            "Requirement already satisfied: sympy==1.13.1 in c:\\users\\brand\\anaconda3\\envs\\torch_cuda_env\\lib\\site-packages (from torch>=2.1.0->pytorch-lightning) (1.13.1)\n",
            "Requirement already satisfied: mpmath<1.4,>=1.1.0 in c:\\users\\brand\\anaconda3\\envs\\torch_cuda_env\\lib\\site-packages (from sympy==1.13.1->torch>=2.1.0->pytorch-lightning) (1.3.0)\n",
            "Requirement already satisfied: click>=8.1 in c:\\users\\brand\\anaconda3\\envs\\torch_cuda_env\\lib\\site-packages (from dask[array]->xskillscore) (8.1.8)\n",
            "Requirement already satisfied: cloudpickle>=3.0.0 in c:\\users\\brand\\anaconda3\\envs\\torch_cuda_env\\lib\\site-packages (from dask[array]->xskillscore) (3.1.1)\n",
            "Requirement already satisfied: partd>=1.4.0 in c:\\users\\brand\\anaconda3\\envs\\torch_cuda_env\\lib\\site-packages (from dask[array]->xskillscore) (1.4.2)\n",
            "Requirement already satisfied: toolz>=0.10.0 in c:\\users\\brand\\anaconda3\\envs\\torch_cuda_env\\lib\\site-packages (from dask[array]->xskillscore) (1.0.0)\n",
            "Requirement already satisfied: importlib_metadata>=4.13.0 in c:\\users\\brand\\anaconda3\\envs\\torch_cuda_env\\lib\\site-packages (from dask[array]->xskillscore) (8.6.1)\n",
            "Requirement already satisfied: patsy>=0.5.6 in c:\\users\\brand\\anaconda3\\envs\\torch_cuda_env\\lib\\site-packages (from statsmodels->xskillscore) (1.0.1)\n",
            "Requirement already satisfied: aiohappyeyeballs>=2.3.0 in c:\\users\\brand\\anaconda3\\envs\\torch_cuda_env\\lib\\site-packages (from aiohttp!=4.0.0a0,!=4.0.0a1->fsspec[http]>=2022.5.0->pytorch-lightning) (2.6.1)\n",
            "Requirement already satisfied: aiosignal>=1.1.2 in c:\\users\\brand\\anaconda3\\envs\\torch_cuda_env\\lib\\site-packages (from aiohttp!=4.0.0a0,!=4.0.0a1->fsspec[http]>=2022.5.0->pytorch-lightning) (1.3.2)\n",
            "Requirement already satisfied: async-timeout<6.0,>=4.0 in c:\\users\\brand\\anaconda3\\envs\\torch_cuda_env\\lib\\site-packages (from aiohttp!=4.0.0a0,!=4.0.0a1->fsspec[http]>=2022.5.0->pytorch-lightning) (5.0.1)\n",
            "Requirement already satisfied: attrs>=17.3.0 in c:\\users\\brand\\anaconda3\\envs\\torch_cuda_env\\lib\\site-packages (from aiohttp!=4.0.0a0,!=4.0.0a1->fsspec[http]>=2022.5.0->pytorch-lightning) (25.3.0)\n",
            "Requirement already satisfied: frozenlist>=1.1.1 in c:\\users\\brand\\anaconda3\\envs\\torch_cuda_env\\lib\\site-packages (from aiohttp!=4.0.0a0,!=4.0.0a1->fsspec[http]>=2022.5.0->pytorch-lightning) (1.5.0)\n",
            "Requirement already satisfied: multidict<7.0,>=4.5 in c:\\users\\brand\\anaconda3\\envs\\torch_cuda_env\\lib\\site-packages (from aiohttp!=4.0.0a0,!=4.0.0a1->fsspec[http]>=2022.5.0->pytorch-lightning) (6.1.0)\n",
            "Requirement already satisfied: propcache>=0.2.0 in c:\\users\\brand\\anaconda3\\envs\\torch_cuda_env\\lib\\site-packages (from aiohttp!=4.0.0a0,!=4.0.0a1->fsspec[http]>=2022.5.0->pytorch-lightning) (0.3.0)\n",
            "Requirement already satisfied: yarl<2.0,>=1.17.0 in c:\\users\\brand\\anaconda3\\envs\\torch_cuda_env\\lib\\site-packages (from aiohttp!=4.0.0a0,!=4.0.0a1->fsspec[http]>=2022.5.0->pytorch-lightning) (1.18.3)\n",
            "Requirement already satisfied: zipp>=3.20 in c:\\users\\brand\\anaconda3\\envs\\torch_cuda_env\\lib\\site-packages (from importlib_metadata>=4.13.0->dask[array]->xskillscore) (3.21.0)\n",
            "Requirement already satisfied: locket in c:\\users\\brand\\anaconda3\\envs\\torch_cuda_env\\lib\\site-packages (from partd>=1.4.0->dask[array]->xskillscore) (1.0.0)\n",
            "Requirement already satisfied: MarkupSafe>=2.0 in c:\\users\\brand\\anaconda3\\envs\\torch_cuda_env\\lib\\site-packages (from jinja2->torch>=2.1.0->pytorch-lightning) (3.0.2)\n",
            "Requirement already satisfied: idna>=2.0 in c:\\users\\brand\\anaconda3\\envs\\torch_cuda_env\\lib\\site-packages (from yarl<2.0,>=1.17.0->aiohttp!=4.0.0a0,!=4.0.0a1->fsspec[http]>=2022.5.0->pytorch-lightning) (3.7)\n"
          ]
        }
      ],
      "source": [
        "!pip install pytorch-lightning pandas xarray torchist xskillscore pyyaml zarr tqdm"
      ]
    },
    {
      "cell_type": "code",
      "execution_count": 2,
      "metadata": {
        "id": "KnV5W9RNCcP8"
      },
      "outputs": [],
      "source": [
        "# Step 2: Add your ChaosBench project to Python path\n",
        "import sys\n",
        "sys.path.append(r\"C:\\Users\\brand\\OneDrive\\Desktop\\chaosbench-20250319T123539Z-001\\chaosbench\")  # Adjust this path if needed"
      ]
    },
    {
      "cell_type": "code",
      "execution_count": 3,
      "metadata": {
        "id": "32oBM3wvCtSa"
      },
      "outputs": [
        {
          "name": "stderr",
          "output_type": "stream",
          "text": [
            "c:\\Users\\brand\\anaconda3\\envs\\torch_cuda_env\\lib\\site-packages\\tqdm\\auto.py:21: TqdmWarning: IProgress not found. Please update jupyter and ipywidgets. See https://ipywidgets.readthedocs.io/en/stable/user_install.html\n",
            "  from .autonotebook import tqdm as notebook_tqdm\n"
          ]
        }
      ],
      "source": [
        "# Step 3: Import required modules from ChaosBench and other libraries\n",
        "import os\n",
        "import torch\n",
        "import yaml\n",
        "import numpy as np\n",
        "import pandas as pd\n",
        "from pathlib import Path\n",
        "from tqdm import tqdm\n",
        "from torch.utils.data import DataLoader\n",
        "\n",
        "import pytorch_lightning as pl\n",
        "from pytorch_lightning import loggers as pl_loggers\n",
        "from pytorch_lightning.callbacks import ModelCheckpoint\n",
        "\n",
        "import dataset, config, utils, criterion\n",
        "from models.model import S2SBenchmarkModel\n",
        "\n",
        "# Set device (uses CUDA if available)\n",
        "device = torch.device('cuda' if torch.cuda.is_available() else 'cpu')"
      ]
    },
    {
      "cell_type": "code",
      "execution_count": 4,
      "metadata": {
        "colab": {
          "base_uri": "https://localhost:8080/"
        },
        "id": "Dj1IkZo6U4mH",
        "outputId": "e992df60-a147-4422-e769-9e523051c898"
      },
      "outputs": [
        {
          "data": {
            "text/plain": [
              "S2SBenchmarkModel(\n",
              "  (model): FNO2d(\n",
              "    (fc0): Linear(in_features=48, out_features=64, bias=True)\n",
              "    (conv0): SpectralConv2d_fast()\n",
              "    (conv1): SpectralConv2d_fast()\n",
              "    (conv2): SpectralConv2d_fast()\n",
              "    (conv3): SpectralConv2d_fast()\n",
              "    (w0): Conv2d(64, 128, kernel_size=(1, 1), stride=(1, 1))\n",
              "    (w1): Conv2d(128, 256, kernel_size=(1, 1), stride=(1, 1))\n",
              "    (w2): Conv2d(256, 512, kernel_size=(1, 1), stride=(1, 1))\n",
              "    (w3): Conv2d(512, 1024, kernel_size=(1, 1), stride=(1, 1))\n",
              "    (decoder): Sequential(\n",
              "      (0): Conv2d(1024, 48, kernel_size=(1, 1), stride=(1, 1))\n",
              "    )\n",
              "  )\n",
              "  (transformer): Sequential(\n",
              "    (0): CustomTransformerBlock(\n",
              "      (attn): PreNorm(\n",
              "        (fn): EfficientSelfAttention(\n",
              "          (to_q): Conv2d(48, 48, kernel_size=(1, 1), stride=(1, 1), bias=False)\n",
              "          (to_kv): Conv2d(48, 96, kernel_size=(4, 4), stride=(4, 4), bias=False)\n",
              "          (to_out): Conv2d(48, 48, kernel_size=(1, 1), stride=(1, 1), bias=False)\n",
              "        )\n",
              "        (norm): LayerNorm()\n",
              "      )\n",
              "      (ff): PreNorm(\n",
              "        (fn): MixFeedForward(\n",
              "          (net): Sequential(\n",
              "            (0): Conv2d(48, 96, kernel_size=(1, 1), stride=(1, 1))\n",
              "            (1): BatchNorm2d(96, eps=1e-05, momentum=0.1, affine=True, track_running_stats=True)\n",
              "            (2): GELU(approximate='none')\n",
              "            (3): DsConv2d(\n",
              "              (net): Sequential(\n",
              "                (0): Conv2d(96, 96, kernel_size=(3, 3), stride=(1, 1), padding=(1, 1), groups=96)\n",
              "                (1): BatchNorm2d(96, eps=1e-05, momentum=0.1, affine=True, track_running_stats=True)\n",
              "                (2): Conv2d(96, 96, kernel_size=(1, 1), stride=(1, 1))\n",
              "              )\n",
              "            )\n",
              "            (4): BatchNorm2d(96, eps=1e-05, momentum=0.1, affine=True, track_running_stats=True)\n",
              "            (5): GELU(approximate='none')\n",
              "            (6): Conv2d(96, 48, kernel_size=(1, 1), stride=(1, 1))\n",
              "          )\n",
              "        )\n",
              "        (norm): LayerNorm()\n",
              "      )\n",
              "    )\n",
              "    (1): CustomTransformerBlock(\n",
              "      (attn): PreNorm(\n",
              "        (fn): EfficientSelfAttention(\n",
              "          (to_q): Conv2d(48, 48, kernel_size=(1, 1), stride=(1, 1), bias=False)\n",
              "          (to_kv): Conv2d(48, 96, kernel_size=(4, 4), stride=(4, 4), bias=False)\n",
              "          (to_out): Conv2d(48, 48, kernel_size=(1, 1), stride=(1, 1), bias=False)\n",
              "        )\n",
              "        (norm): LayerNorm()\n",
              "      )\n",
              "      (ff): PreNorm(\n",
              "        (fn): MixFeedForward(\n",
              "          (net): Sequential(\n",
              "            (0): Conv2d(48, 96, kernel_size=(1, 1), stride=(1, 1))\n",
              "            (1): BatchNorm2d(96, eps=1e-05, momentum=0.1, affine=True, track_running_stats=True)\n",
              "            (2): GELU(approximate='none')\n",
              "            (3): DsConv2d(\n",
              "              (net): Sequential(\n",
              "                (0): Conv2d(96, 96, kernel_size=(3, 3), stride=(1, 1), padding=(1, 1), groups=96)\n",
              "                (1): BatchNorm2d(96, eps=1e-05, momentum=0.1, affine=True, track_running_stats=True)\n",
              "                (2): Conv2d(96, 96, kernel_size=(1, 1), stride=(1, 1))\n",
              "              )\n",
              "            )\n",
              "            (4): BatchNorm2d(96, eps=1e-05, momentum=0.1, affine=True, track_running_stats=True)\n",
              "            (5): GELU(approximate='none')\n",
              "            (6): Conv2d(96, 48, kernel_size=(1, 1), stride=(1, 1))\n",
              "          )\n",
              "        )\n",
              "        (norm): LayerNorm()\n",
              "      )\n",
              "    )\n",
              "  )\n",
              ")"
            ]
          },
          "execution_count": 4,
          "metadata": {},
          "output_type": "execute_result"
        }
      ],
      "source": [
        "# Step 4: Load the pretrained model checkpoint\n",
        "# Adjust the following paths to match your checkpoint and config locations.\n",
        "log_dir = Path(r\"C:\\Users\\brand\\OneDrive\\Desktop\\chaosbench-20250319T123539Z-001\\chaosbench\\logs\\lightning_logs\\version_28\")  # Change to your logs directory\n",
        "ckpt_dir = log_dir / r\"C:\\Users\\brand\\OneDrive\\Desktop\\ChaosBench-20250319T123531Z-001\\ChaosBench\\checkpoints\"       # Change version if needed\n",
        "ckpt_files = list(ckpt_dir.glob('*.ckpt'))\n",
        "assert len(ckpt_files) > 0, \"No checkpoint found in the specified directory!\"\n",
        "ckpt_filepath = ckpt_files[0]  # Use the first checkpoint (or modify as needed)\n",
        "\n",
        "# Load model configuration (YAML)\n",
        "config_filepath = Path(r\"C:\\Users\\brand\\OneDrive\\Desktop\\chaosbench-20250319T123539Z-001\\chaosbench\\configs\\fno_pinn.yaml\")  # Adjust the path\n",
        "with open(config_filepath, 'r') as config_f:\n",
        "    hyperparams = yaml.load(config_f, Loader=yaml.FullLoader)\n",
        "\n",
        "model_args = hyperparams['model_args']\n",
        "data_args = hyperparams['data_args']\n",
        "\n",
        "baseline = S2SBenchmarkModel.load_from_checkpoint(\n",
        "    str(ckpt_filepath),\n",
        "    model_args=model_args,\n",
        "    data_args=data_args\n",
        ")\n",
        "\n",
        "baseline.eval()  # Set model to evaluation mode\n",
        "baseline.to(device)"
      ]
    },
    {
      "cell_type": "code",
      "execution_count": 5,
      "metadata": {
        "id": "ZLhk4xwnqq7W"
      },
      "outputs": [],
      "source": [
        "# Step 5: Prepare the evaluation dataset\n",
        "BATCH_SIZE = 8\n",
        "eval_years = [2020]  # Change as needed\n",
        "\n",
        "# Load the evaluation dataset. This example uses S2SObsDataset.\n",
        "input_dataset = dataset.CSV_ERA5_Dataset(\n",
        "    years=eval_years,\n",
        "    n_step=config.N_STEPS - 1,  # e.g., if N_STEPS=45, then we have 44 prediction steps\n",
        "    lead_time=1,                # Adjust if needed\n",
        "    land_vars=data_args.get('land_vars', []),\n",
        "    ocean_vars=data_args.get('ocean_vars', [])\n",
        ")\n",
        "input_dataloader = DataLoader(input_dataset, batch_size=BATCH_SIZE, shuffle=False)\n"
      ]
    },
    {
      "cell_type": "code",
      "execution_count": 6,
      "metadata": {},
      "outputs": [
        {
          "name": "stdout",
          "output_type": "stream",
          "text": [
            "Number of samples in dataset: 322\n"
          ]
        }
      ],
      "source": [
        "print(\"Number of samples in dataset:\", len(input_dataset))\n"
      ]
    },
    {
      "cell_type": "code",
      "execution_count": 7,
      "metadata": {
        "colab": {
          "base_uri": "https://localhost:8080/",
          "height": 373
        },
        "id": "g4YdQM8oq-2m",
        "outputId": "6ede754b-9e23-4641-a402-0bb8383494e0"
      },
      "outputs": [
        {
          "name": "stderr",
          "output_type": "stream",
          "text": [
            "Evaluating: 100%|██████████| 41/41 [00:52<00:00,  1.29s/it]\n"
          ]
        }
      ],
      "source": [
        "# Step 6: Perform iterative (autoregressive) inference\n",
        "# Initialize evaluation metrics (examples: RMSE, Bias)\n",
        "RMSE_metric = criterion.RMSE()\n",
        "Bias_metric = criterion.Bias()\n",
        "# ACC_metric = criterion.ACC()\n",
        "\n",
        "all_rmse = []   # List to store RMSE for each batch and timestep\n",
        "all_bias = []   # List to store Bias for each batch and timestep\n",
        "# all_acc  = []   # List to store ACC for each batch and timestep\n",
        "\n",
        "for batch_idx, (timestamp, preds_x, preds_y) in enumerate(tqdm(input_dataloader, desc=\"Evaluating\")):\n",
        "    # Move input to device\n",
        "    preds_x = preds_x.to(device)\n",
        "    preds_y = preds_y.to(device)  # Ground truth shape: (BATCH_SIZE, timesteps, output_dim)\n",
        "\n",
        "    batch_rmse = []\n",
        "    batch_bias = []\n",
        "    # batch_acc  = []\n",
        "\n",
        "    # Iterate over the number of prediction time steps (autoregressive)\n",
        "    # For each time step, run inference and update predictions.\n",
        "    for step_idx in range(preds_y.size(1)):\n",
        "        with torch.no_grad():\n",
        "            preds = baseline(preds_x)  # Forward pass\n",
        "        # Assume the model outputs predictions with shape matching targets: (BATCH_SIZE, channels, H, W)\n",
        "        targets = preds_y[:, step_idx]\n",
        "\n",
        "        # Compute global metrics (over all channels)\n",
        "        rmse_val = RMSE_metric(preds, targets).cpu().numpy()\n",
        "        bias_val = Bias_metric(preds, targets).cpu().numpy()\n",
        "\n",
        "        # --- Compute denormalized metrics for specific channels ---\n",
        "        # For u-1000 (channel index 36)\n",
        "        preds_u1000 = preds[:, 36]\n",
        "        targets_u1000 = targets[:, 36]\n",
        "\n",
        "        preds_u1000_np = preds_u1000.cpu().numpy()\n",
        "        targets_u1000_np = targets_u1000.cpu().numpy()\n",
        "\n",
        "        denorm_preds_u1000 = utils.denormalize(preds_u1000_np, 'u-1000', 'era5', is_diff=False)\n",
        "        denorm_targets_u1000 = utils.denormalize(targets_u1000_np, 'u-1000', 'era5', is_diff=False)\n",
        "\n",
        "        denorm_preds_u1000 = torch.tensor(denorm_preds_u1000, device=device)\n",
        "        denorm_targets_u1000 = torch.tensor(denorm_targets_u1000, device=device)\n",
        "\n",
        "        rmse_u1000 = RMSE_metric(denorm_preds_u1000, denorm_targets_u1000).cpu().numpy()\n",
        "\n",
        "        # For v-1000 (channel index 46)\n",
        "        preds_v1000 = preds[:, 46]\n",
        "        targets_v1000 = targets[:, 46]\n",
        "\n",
        "        preds_v1000_np = preds_v1000.cpu().numpy()\n",
        "        targets_v1000_np = targets_v1000.cpu().numpy()\n",
        "\n",
        "        denorm_preds_v1000 = utils.denormalize(preds_v1000_np, 'v-1000', 'era5', is_diff=False)\n",
        "        denorm_targets_v1000 = utils.denormalize(targets_v1000_np, 'v-1000', 'era5', is_diff=False)\n",
        "\n",
        "        denorm_preds_v1000 = torch.tensor(denorm_preds_v1000, device=device)\n",
        "        denorm_targets_v1000 = torch.tensor(denorm_targets_v1000, device=device)\n",
        "\n",
        "        rmse_v1000 = RMSE_metric(denorm_preds_v1000, denorm_targets_v1000).cpu().numpy()\n",
        "        # --- End denormalized metrics ---\n",
        "\n",
        "        # Store your metrics as desired, for example as a tuple:\n",
        "        batch_rmse.append((rmse_val, rmse_u1000, rmse_v1000))\n",
        "        batch_bias.append(bias_val)\n",
        "\n",
        "        # Autoregressive update:\n",
        "        preds_x = preds\n",
        "\n",
        "    all_rmse.append(batch_rmse)\n",
        "    all_bias.append(batch_bias)\n"
      ]
    },
    {
      "cell_type": "code",
      "execution_count": 8,
      "metadata": {},
      "outputs": [
        {
          "name": "stdout",
          "output_type": "stream",
          "text": [
            "Requirement already satisfied: matplotlib in c:\\users\\brand\\anaconda3\\envs\\torch_cuda_env\\lib\\site-packages (3.10.1)\n",
            "Requirement already satisfied: contourpy>=1.0.1 in c:\\users\\brand\\anaconda3\\envs\\torch_cuda_env\\lib\\site-packages (from matplotlib) (1.3.1)\n",
            "Requirement already satisfied: cycler>=0.10 in c:\\users\\brand\\anaconda3\\envs\\torch_cuda_env\\lib\\site-packages (from matplotlib) (0.12.1)\n",
            "Requirement already satisfied: fonttools>=4.22.0 in c:\\users\\brand\\anaconda3\\envs\\torch_cuda_env\\lib\\site-packages (from matplotlib) (4.56.0)\n",
            "Requirement already satisfied: kiwisolver>=1.3.1 in c:\\users\\brand\\anaconda3\\envs\\torch_cuda_env\\lib\\site-packages (from matplotlib) (1.4.8)\n",
            "Requirement already satisfied: numpy>=1.23 in c:\\users\\brand\\anaconda3\\envs\\torch_cuda_env\\lib\\site-packages (from matplotlib) (2.0.1)\n",
            "Requirement already satisfied: packaging>=20.0 in c:\\users\\brand\\anaconda3\\envs\\torch_cuda_env\\lib\\site-packages (from matplotlib) (24.2)\n",
            "Requirement already satisfied: pillow>=8 in c:\\users\\brand\\anaconda3\\envs\\torch_cuda_env\\lib\\site-packages (from matplotlib) (11.1.0)\n",
            "Requirement already satisfied: pyparsing>=2.3.1 in c:\\users\\brand\\anaconda3\\envs\\torch_cuda_env\\lib\\site-packages (from matplotlib) (3.2.1)\n",
            "Requirement already satisfied: python-dateutil>=2.7 in c:\\users\\brand\\anaconda3\\envs\\torch_cuda_env\\lib\\site-packages (from matplotlib) (2.9.0.post0)\n",
            "Requirement already satisfied: six>=1.5 in c:\\users\\brand\\anaconda3\\envs\\torch_cuda_env\\lib\\site-packages (from python-dateutil>=2.7->matplotlib) (1.17.0)\n"
          ]
        }
      ],
      "source": [
        "!pip install matplotlib"
      ]
    },
    {
      "cell_type": "code",
      "execution_count": 9,
      "metadata": {},
      "outputs": [
        {
          "name": "stdout",
          "output_type": "stream",
          "text": [
            "    0                   1                   2                   3    \\\n",
            "0  z-10                z-50               z-100               z-200   \n",
            "1   NaN   16.15295294179277  12.809589522794012  13.351289704355231   \n",
            "2   NaN  22.280528119688512  16.934657505537587  16.942449670774447   \n",
            "3   NaN  28.581447710578768  21.986253432051072  22.369786934137267   \n",
            "4   NaN  35.722041509519165  28.269349917574438  29.960064124460075   \n",
            "\n",
            "                  4                   5                   6    \\\n",
            "0               z-300               z-500               z-700   \n",
            "1  13.388047433164587   9.777885501014794  7.6411706518064655   \n",
            "2  16.654101979063395   11.92063070316163   9.383122390580434   \n",
            "3  22.439246608716488  15.933837761027245  12.458435046599796   \n",
            "4  30.960252873145738   22.25703451651481   17.25706255931931   \n",
            "\n",
            "                  7                   8                   9    ...       114  \\\n",
            "0               z-850               z-925              z-1000  ...  sohtc700   \n",
            "1    7.26332687257246   7.390469756729666   8.318537824414717  ...       NaN   \n",
            "2   9.085103213210575   9.200563714352928  10.212364114354854  ...       NaN   \n",
            "3   12.06708494166341  12.312102339381784  13.377294214570743  ...       NaN   \n",
            "4  16.570763461227397   16.93579657670641  18.028718146353622  ...       NaN   \n",
            "\n",
            "        115       116       117       118       119       120       121  \\\n",
            "0  sohtcbtm  sometauy  somxl010  somxl030  sosaline  sossheig  sosstsst   \n",
            "1       NaN       NaN       NaN       NaN       NaN       NaN       NaN   \n",
            "2       NaN       NaN       NaN       NaN       NaN       NaN       NaN   \n",
            "3       NaN       NaN       NaN       NaN       NaN       NaN       NaN   \n",
            "4       NaN       NaN       NaN       NaN       NaN       NaN       NaN   \n",
            "\n",
            "        122       123  \n",
            "0  sowaflup  sozotaux  \n",
            "1       NaN       NaN  \n",
            "2       NaN       NaN  \n",
            "3       NaN       NaN  \n",
            "4       NaN       NaN  \n",
            "\n",
            "[5 rows x 124 columns]\n"
          ]
        }
      ],
      "source": [
        "import pandas as pd\n",
        "\n",
        "df = pd.read_csv(\"rmse_graphcast.csv\", header=None)  # or header=some_row if you know there's a header row\n",
        "print(df.head())\n"
      ]
    },
    {
      "cell_type": "code",
      "execution_count": 10,
      "metadata": {
        "id": "bMF51UFrrA8V"
      },
      "outputs": [
        {
          "data": {
            "image/png": "[encoded data removed]",
            "text/plain": [
              "<Figure size 1000x500 with 1 Axes>"
            ]
          },
          "metadata": {},
          "output_type": "display_data"
        }
      ],
      "source": [
        "# Plot RMSE over time steps (averaged over batches)\n",
        "import matplotlib.pyplot as plt\n",
        "\n",
        "# Convert all_rmse (a list of lists of tuples) to separate NumPy arrays\n",
        "# Each element in all_rmse is a list (for each batch) of tuples (global, u-1000, v-1000) for each timestep.\n",
        "all_rmse = np.array(all_rmse)  # shape (num_batches, num_timesteps, 3)\n",
        "\n",
        "# Compute mean across batches for each metric separately.\n",
        "mean_global = np.nanmean(all_rmse[:, :, 0], axis=0)\n",
        "mean_u1000 = np.nanmean(all_rmse[:, :, 1], axis=0)\n",
        "mean_v1000 = np.nanmean(all_rmse[:, :, 2], axis=0)\n",
        "\n",
        "# Plotting each RMSE time series\n",
        "import matplotlib.pyplot as plt\n",
        "\n",
        "timesteps = np.arange(1, mean_global.size + 1)\n",
        "plt.figure(figsize=(10, 5))\n",
        "plt.plot(timesteps, mean_global, marker='o', label='Global RMSE')\n",
        "plt.plot(timesteps, mean_u1000, marker='o', label='u-1000 RMSE')\n",
        "plt.plot(timesteps, mean_v1000, marker='o', label='v-1000 RMSE')\n",
        "plt.xlabel(\"Prediction Time Step\")\n",
        "plt.ylabel(\"RMSE\")\n",
        "plt.title(\"Autoregressive RMSE Over Time\")\n",
        "plt.legend()\n",
        "plt.grid(True)\n",
        "plt.show()\n"
      ]
    }
  ],
  "metadata": {
    "accelerator": "GPU",
    "colab": {
      "gpuType": "T4",
      "machine_shape": "hm",
      "provenance": []
    },
    "kernelspec": {
      "display_name": "torch_cuda_env",
      "language": "python",
      "name": "python3"
    },
    "language_info": {
      "codemirror_mode": {
        "name": "ipython",
        "version": 3
      },
      "file_extension": ".py",
      "mimetype": "text/x-python",
      "name": "python",
      "nbconvert_exporter": "python",
      "pygments_lexer": "ipython3",
      "version": "3.10.16"
    }
  },
  "nbformat": 4,
  "nbformat_minor": 0
}
